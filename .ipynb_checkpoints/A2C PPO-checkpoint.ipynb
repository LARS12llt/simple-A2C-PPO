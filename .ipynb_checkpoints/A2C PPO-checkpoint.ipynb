{
 "cells": [
  {
   "cell_type": "markdown",
   "metadata": {},
   "source": [
    "# Actor Critic with PPO\n",
    "\n",
    "There are two main portions to this notebook \n",
    "- Gathering trajectories\n",
    "- Learning from the trajectories\n",
    "\n",
    "Notebook designed for readability and exploration rather than production. Uses a single GPU. For an industrial-strength PPO in PyTorch check out [ikostrikov's](https://github.com/ikostrikov/pytorch-a2c-ppo-acktr-gail). For the 'definitive' implementation of PPO, check out [OpenAI baselines](https://github.com/openai/baselines/tree/master/baselines/ppo2) (tensorflow).\n",
    "\n",
    "Experiments below reproduce results from OpenAI's [procedually-generated environments](https://openai.com/blog/procgen-benchmark/). All hyperparameters taken directly from the [procgen paper](https://arxiv.org/abs/1912.01588). Everything built from scratch unless otherwise noted in effort to gain intuition."
   ]
  },
  {
   "cell_type": "code",
   "execution_count": 1,
   "metadata": {
    "colab": {
     "base_uri": "https://localhost:8080/",
     "height": 67
    },
    "colab_type": "code",
    "id": "AoHncnzFE3sh",
    "outputId": "24a62a39-5e67-4c67-e4c3-ab02e7368420",
    "scrolled": false
   },
   "outputs": [],
   "source": [
    "%matplotlib inline\n",
    "%load_ext autoreload\n",
    "%autoreload 2\n",
    "\n",
    "import torch\n",
    "import torch.nn as nn\n",
    "import torch.nn.functional as F\n",
    "import numpy as np\n",
    "import matplotlib.pyplot as plt\n",
    "import gym\n",
    "import random\n",
    "import cv2"
   ]
  },
  {
   "cell_type": "code",
   "execution_count": 2,
   "metadata": {},
   "outputs": [
    {
     "name": "stdout",
     "output_type": "stream",
     "text": [
      "cuda\n"
     ]
    }
   ],
   "source": [
    "# Check for cuda. Can run on CPU if necessary. \n",
    "\n",
    "device = 'cuda' if torch.cuda.is_available else 'cpu'; print(device)\n",
    "if device != 'cuda': print(\"No cuda detected. Consider colab.research.google.com for free GPUs.\")"
   ]
  },
  {
   "cell_type": "code",
   "execution_count": 3,
   "metadata": {
    "colab": {},
    "colab_type": "code",
    "id": "K4Ju-bB2FLFn"
   },
   "outputs": [],
   "source": [
    "# If no local GPU or want to run multiple notebooks simultaneously, use Google Colab. In that case, have to install procgen\n",
    "\n",
    "try: \n",
    "    from procgen import ProcgenEnv\n",
    "except: \n",
    "    !pip install procgen\n",
    "    from procgen import ProcgenEnv"
   ]
  },
  {
   "cell_type": "code",
   "execution_count": 4,
   "metadata": {
    "colab": {
     "base_uri": "https://localhost:8080/",
     "height": 236,
     "resources": {
      "http://localhost:8080/nbextensions/google.colab/files.js": {
       "data": "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",
       "headers": [
        [
         "content-type",
         "application/javascript"
        ]
       ],
       "ok": true,
       "status": 200,
       "status_text": ""
      }
     }
    },
    "colab_type": "code",
    "id": "-9TG0rO2GTBH",
    "outputId": "76380af1-1abf-4609-a347-dacd03df5578"
   },
   "outputs": [],
   "source": [
    "# Same thing, for colab. TODO make this upload it automatically. \n",
    "\n",
    "try:\n",
    "    from utils import *\n",
    "except:\n",
    "    from google.colab import files\n",
    "    src = list(files.upload().values())[0]\n",
    "    from utils import *"
   ]
  },
  {
   "cell_type": "markdown",
   "metadata": {},
   "source": [
    "## Agent\n",
    "Using \"Impala CNN\" as referenced in procgen paper. Architecture from [the original IMPALA paper](https://arxiv.org/abs/1802.01561). Basically just a small vanilla resnet (0.3M params)"
   ]
  },
  {
   "cell_type": "code",
   "execution_count": 5,
   "metadata": {},
   "outputs": [],
   "source": [
    "# Impala CNN. Same as that used in procgen papers except we've added batchnorm. Each module tested separately during construction.\n",
    "\n",
    "class Flatten(nn.Module):\n",
    "    def forward(self, x):\n",
    "        return x.view(x.size(0), -1)\n",
    "\n",
    "class ResBlock(nn.Module):\n",
    "    def __init__(self, n_channels):\n",
    "        super(ResBlock, self).__init__()\n",
    "        self.conv1 = nn.Conv2d(in_channels=n_channels, out_channels=n_channels, kernel_size=3, stride=1, padding=1)\n",
    "        self.conv2 = nn.Conv2d(in_channels=n_channels, out_channels=n_channels, kernel_size=3, stride=1, padding=1)\n",
    "        self.bn1 = nn.BatchNorm2d(n_channels)\n",
    "        self.bn2 = nn.BatchNorm2d(n_channels)\n",
    "    \n",
    "    def forward(self, x):\n",
    "        out = nn.ReLU()(x)\n",
    "        out = self.conv1(out)\n",
    "        out = self.bn1(out)\n",
    "        out = nn.ReLU()(out)\n",
    "        out = self.conv2(out)\n",
    "        out = self.bn2(out)\n",
    "        \n",
    "        return out + x\n",
    "    \n",
    "class ImpalaBlock(nn.Module):\n",
    "    def __init__(self, in_channels, out_channels):\n",
    "        super(ImpalaBlock, self).__init__()\n",
    "        self.conv1 = nn.Conv2d(in_channels=in_channels, out_channels=out_channels, kernel_size=3, stride=1)\n",
    "        self.res1 = ResBlock(out_channels)\n",
    "        self.res2 = ResBlock(out_channels)\n",
    "        self.bn = nn.BatchNorm2d(out_channels)\n",
    "        \n",
    "    def forward(self, x):\n",
    "        x = self.conv1(x)\n",
    "        x = self.bn(x)\n",
    "        x = nn.MaxPool2d(kernel_size=3, stride=2)(x)\n",
    "        x = self.res1(x)\n",
    "        x = self.res2(x)\n",
    "        return x\n",
    "    \n",
    "class ImpalaCNN(nn.Module):\n",
    "    def __init__(self):\n",
    "        super(ImpalaCNN, self).__init__()\n",
    "        self.block1 = ImpalaBlock(in_channels=3, out_channels=16)\n",
    "        self.block2 = ImpalaBlock(in_channels=16, out_channels=32)\n",
    "        self.block3 = ImpalaBlock(in_channels=32, out_channels=32)\n",
    "        self.fc = nn.Linear(800, 256)\n",
    "        \n",
    "        self.critic = init_critic_(nn.Linear(256, 1))\n",
    "        self.actor = init_actor_(nn.Linear(256, n_actions))\n",
    "        \n",
    "    def forward(self, x):\n",
    "        x = self.block1(x)\n",
    "        x = self.block2(x)\n",
    "        x = self.block3(x)\n",
    "        x = nn.ReLU()(x)\n",
    "        x = Flatten()(x)\n",
    "        x = self.fc(x)\n",
    "        x = nn.ReLU()(x)\n",
    "        \n",
    "        c = self.critic(x)\n",
    "        a = nn.LogSoftmax(dim=-1)(self.actor(x))\n",
    "        return a, c\n",
    "    \n",
    "# Proper orthogonal init in the right locations is important\n",
    "\n",
    "def init(module, weight_init, bias_init, gain=1):\n",
    "    weight_init(module.weight.data, gain=gain)\n",
    "    bias_init(module.bias.data)\n",
    "    return module\n",
    "\n",
    "init_ = lambda m: init(m, nn.init.orthogonal_, lambda x: nn.init.constant_(x, 0), nn.init.calculate_gain('relu'))\n",
    "init_critic_ = lambda m: init(m, nn.init.orthogonal_, lambda x: nn.init.constant_(x, 0))\n",
    "init_actor_ = lambda m: init(m, nn.init.orthogonal_, lambda x: nn.init.constant_(x, 0), gain=0.01)"
   ]
  },
  {
   "cell_type": "code",
   "execution_count": 6,
   "metadata": {
    "colab": {},
    "colab_type": "code",
    "id": "ACApmQdsE3sw"
   },
   "outputs": [],
   "source": [
    "agent = ImpalaCNN().to(device)"
   ]
  },
  {
   "cell_type": "code",
   "execution_count": 7,
   "metadata": {
    "colab": {
     "base_uri": "https://localhost:8080/",
     "height": 34
    },
    "colab_type": "code",
    "id": "mYz2i8DLE3s1",
    "outputId": "b28d1847-af89-4172-8f6b-621a74739aa7"
   },
   "outputs": [
    {
     "data": {
      "text/plain": [
       "'0.308 M params'"
      ]
     },
     "execution_count": 7,
     "metadata": {},
     "output_type": "execute_result"
    }
   ],
   "source": [
    "get_n_params(agent)"
   ]
  },
  {
   "cell_type": "markdown",
   "metadata": {},
   "source": [
    "## Environment\n",
    "\n",
    "There are 16 procedurally-generated environments to choose from. Goal is to encourage and test ability to generalize rather than overfit to specific game. \n",
    "\n",
    "Using [vectorized environments](https://stable-baselines.readthedocs.io/en/master/guide/vec_envs.html) from OpenAI. Vecenvs are normal envs stacked side by side. They progress \"shoulder to shoulder\", giving us more variety in our rollouts than a single env could. To change environment simply swap out env_name. Nothing else changes."
   ]
  },
  {
   "cell_type": "code",
   "execution_count": 8,
   "metadata": {
    "colab": {},
    "colab_type": "code",
    "id": "vCpcHwaCE3s5"
   },
   "outputs": [],
   "source": [
    "n_envs = 72 # Procgen paper uses 64 but that's the same shape as img size. Prefer unique dims to faciliate debugging.\n",
    "n_levels = 0 # Zero for all levels\n",
    "env_name = 'starpilot' \n",
    "\n",
    "env = ProcgenEnv(num_envs=n_envs, env_name=env_name, start_level=0, num_levels=n_levels, distribution_mode='easy')\n",
    "env = VecExtractDictObs(env, \"rgb\") \n",
    "env = VecMonitor(env)\n",
    "env = VecNormalize(env, ob=False) # normalizing returns, but not the img frames.\n",
    "#env = VecFrameStack(env, nstack=4) # procgen paper found limited help from framestacking"
   ]
  },
  {
   "cell_type": "code",
   "execution_count": 9,
   "metadata": {
    "scrolled": true
   },
   "outputs": [],
   "source": [
    "# Load trained model if you have one\n",
    "\n",
    "load_pretrained = False\n",
    "\n",
    "if load_pretrained:\n",
    "    try:\n",
    "        agent.load_state_dict(torch.load(env_name+\" agent.torch\"), strict=False)\n",
    "        print(\"Successfully loaded saved model!\")\n",
    "    except:\n",
    "        print(\"No model saved yet\")"
   ]
  },
  {
   "cell_type": "code",
   "execution_count": 10,
   "metadata": {
    "colab": {
     "base_uri": "https://localhost:8080/",
     "height": 151
    },
    "colab_type": "code",
    "id": "L3FX9JPQE3s9",
    "outputId": "f676c6da-8f76-4ccc-f048-492491f22753",
    "scrolled": true
   },
   "outputs": [
    {
     "data": {
      "text/plain": [
       "(72, 64, 64, 3)"
      ]
     },
     "execution_count": 10,
     "metadata": {},
     "output_type": "execute_result"
    }
   ],
   "source": [
    "# take random first step in our envs\n",
    "\n",
    "env.reset()\n",
    "frame, reward, done, info = env.step(np.array([env.action_space.sample() for _ in range(n_envs)])); \n",
    "frame.shape"
   ]
  },
  {
   "cell_type": "code",
   "execution_count": 11,
   "metadata": {
    "colab": {
     "base_uri": "https://localhost:8080/",
     "height": 285
    },
    "colab_type": "code",
    "id": "C4msy7YpE3tE",
    "outputId": "c6171666-9f2f-4eda-9bb9-a6d9d7bc2a16"
   },
   "outputs": [
    {
     "data": {
      "text/plain": [
       "<matplotlib.image.AxesImage at 0x1ff826fcb08>"
      ]
     },
     "execution_count": 11,
     "metadata": {},
     "output_type": "execute_result"
    },
    {
     "data": {
      "image/png": "[encoded data removed]",
      "text/plain": [
       "<Figure size 432x288 with 1 Axes>"
      ]
     },
     "metadata": {
      "needs_background": "light"
     },
     "output_type": "display_data"
    }
   ],
   "source": [
    "plt.imshow(frame[0])"
   ]
  },
  {
   "cell_type": "code",
   "execution_count": 12,
   "metadata": {
    "colab": {},
    "colab_type": "code",
    "id": "w5pCYBzsE3tH"
   },
   "outputs": [
    {
     "data": {
      "text/plain": [
       "torch.Size([72, 3, 64, 64])"
      ]
     },
     "execution_count": 12,
     "metadata": {},
     "output_type": "execute_result"
    }
   ],
   "source": [
    "frame = np_to_pytorch_img(frame).to(device)\n",
    "frame.shape"
   ]
  },
  {
   "cell_type": "code",
   "execution_count": 13,
   "metadata": {
    "colab": {
     "base_uri": "https://localhost:8080/",
     "height": 1000
    },
    "colab_type": "code",
    "id": "_o8hdtGyE3tN",
    "outputId": "14837f6d-5746-431a-9f6b-f1f28903b976",
    "scrolled": true
   },
   "outputs": [
    {
     "data": {
      "text/plain": [
       "(torch.Size([72, 15]), torch.Size([72, 1]))"
      ]
     },
     "execution_count": 13,
     "metadata": {},
     "output_type": "execute_result"
    }
   ],
   "source": [
    "# Test out agent and env\n",
    "\n",
    "with torch.no_grad():\n",
    "    action_log_probs, state_estimate = agent(frame); \n",
    "\n",
    "action_log_probs.shape, state_estimate.shape"
   ]
  },
  {
   "cell_type": "code",
   "execution_count": 14,
   "metadata": {
    "colab": {
     "base_uri": "https://localhost:8080/",
     "height": 84
    },
    "colab_type": "code",
    "id": "1ijv2mhpE3tY",
    "outputId": "509224a1-6c44-4828-c00a-ab41a1602183"
   },
   "outputs": [
    {
     "data": {
      "text/plain": [
       "tensor([13,  5,  3, 12,  0,  6,  8,  9, 11,  5,  0, 12,  0,  4,  3,  7,  2,  3,\n",
       "         9,  7,  5,  2,  5, 11,  6,  3,  3,  1,  4,  8,  2,  0,  2,  7,  6,  9,\n",
       "         3,  5,  2,  6, 13,  9, 11,  6,  6,  3,  0,  4,  1,  9,  0,  4,  7,  0,\n",
       "         9, 11, 13, 11, 14, 14,  5, 12,  3, 11, 14,  4, 10,  7, 14,  2,  7, 13],\n",
       "       device='cuda:0')"
      ]
     },
     "execution_count": 14,
     "metadata": {},
     "output_type": "execute_result"
    }
   ],
   "source": [
    "# Sample an action from the action probs distribution.\n",
    "\n",
    "get_action(action_log_probs)"
   ]
  },
  {
   "cell_type": "markdown",
   "metadata": {
    "colab": {},
    "colab_type": "code",
    "id": "1K7GWtJuE3te"
   },
   "source": [
    "## Calculate Returns\n",
    "\n",
    "Using [Generalized Advantage Estimation (GAE)](https://arxiv.org/abs/1506.02438). Also have vanilla discounted returns for comparison"
   ]
  },
  {
   "cell_type": "code",
   "execution_count": 15,
   "metadata": {
    "colab": {},
    "colab_type": "code",
    "id": "1LS-zWKXE3tf",
    "scrolled": true
   },
   "outputs": [],
   "source": [
    "# Manually create a mock dataset of rewards to inspect our returns calculators\n",
    "\n",
    "rewards = np.zeros((32, 5)) # shape mimics 5 envs taking 32 steps. This is like how we'll get it from vecenvs\n",
    "\n",
    "rewards[10, 1] = 3\n",
    "rewards[5, 3] = 4\n",
    "rewards[20, 0] = 5\n",
    "rewards[31, 0] = 3.66\n",
    "\n",
    "dones = np.zeros_like(rewards)\n",
    "dones[5, 1] = 1\n",
    "dones[15, 3] = 1\n",
    "dones[20, 0] = 1"
   ]
  },
  {
   "cell_type": "code",
   "execution_count": 16,
   "metadata": {
    "colab": {
     "base_uri": "https://localhost:8080/",
     "height": 554
    },
    "colab_type": "code",
    "id": "XAvfCgNiE3tk",
    "outputId": "996d705f-da61-49ba-d23b-bd57674c9345",
    "scrolled": true
   },
   "outputs": [],
   "source": [
    "def compute_returns(rewards, dones):\n",
    "    \"\"\" Vanilla method of computing discounted returns. Does not use GAE \"\"\"\n",
    "    \n",
    "    GAMMA = .95\n",
    "    R = []\n",
    "    r2 = rewards[-1] # this is ~v(s)\n",
    "    R.append(r2)\n",
    "    for i in reversed(range(0, len(rewards)-1)):\n",
    "        reward = rewards[i]\n",
    "        r1_is_terminal = (dones[i]-1)*-1 # so Dones are zeros\n",
    "        r1 = reward + ((r2 * GAMMA)*r1_is_terminal) # If r1 is terminal, don't add in the discounted returns of next state\n",
    "        R.append(r1)\n",
    "        r2=r1\n",
    "        \n",
    "    R.reverse()\n",
    "    R = np.array(R)\n",
    "    return R\n",
    "\n",
    "# Testing \n",
    "vanilla_returns = compute_returns(rewards, dones)"
   ]
  },
  {
   "cell_type": "code",
   "execution_count": 17,
   "metadata": {},
   "outputs": [
    {
     "data": {
      "text/plain": [
       "Text(0.5, 1.0, 'Vanilla Returns')"
      ]
     },
     "execution_count": 17,
     "metadata": {},
     "output_type": "execute_result"
    },
    {
     "data": {
      "image/png": "[encoded data removed]",
      "text/plain": [
       "<Figure size 432x288 with 1 Axes>"
      ]
     },
     "metadata": {
      "needs_background": "light"
     },
     "output_type": "display_data"
    }
   ],
   "source": [
    "# Using simple discounted returns, here's how our rewards translate into returns.\n",
    "\n",
    "plt.plot(range(len(vanilla_returns)), [_[0] for _ in vanilla_returns])\n",
    "plt.title(\"Vanilla Returns\")"
   ]
  },
  {
   "cell_type": "code",
   "execution_count": 18,
   "metadata": {
    "colab": {
     "base_uri": "https://localhost:8080/",
     "height": 34
    },
    "colab_type": "code",
    "id": "oAptYy-fE3tm",
    "outputId": "df19f90b-0a10-4e7f-c44c-164efa7b646d",
    "scrolled": true
   },
   "outputs": [],
   "source": [
    "def compute_returns_gae(rewards, dones, values):\n",
    "    \"\"\" Compute discounted returns w Generalized Advantage Estimation (GAE) \"\"\"\n",
    "    \n",
    "    GAMMA = .999\n",
    "    LAM = .95\n",
    "    lastgaelam = 0\n",
    "    A = [np.zeros(rewards.shape[-1])]\n",
    "    for t in reversed(range(0, len(rewards)-1)):\n",
    "        nextnonterminal = 1.0 - dones[t] # openai baselines records dones in different way. Customized this. Was t+1\n",
    "        nextvalues = values[t+1]\n",
    "        delta = rewards[t] + GAMMA * nextvalues * nextnonterminal - values[t]\n",
    "        lastgaelam = delta + GAMMA * LAM * nextnonterminal * lastgaelam\n",
    "        A.append(lastgaelam)\n",
    "    A.reverse()\n",
    "    A = np.array(A)\n",
    "    R = A + values\n",
    "    return R\n",
    "\n",
    "# Using vanilla returns in place of estimated state values. \n",
    "gae_returns = compute_returns_gae(rewards, dones, vanilla_returns);"
   ]
  },
  {
   "cell_type": "code",
   "execution_count": 19,
   "metadata": {},
   "outputs": [
    {
     "data": {
      "text/plain": [
       "Text(0.5, 1.0, 'GAE Returns')"
      ]
     },
     "execution_count": 19,
     "metadata": {},
     "output_type": "execute_result"
    },
    {
     "data": {
      "image/png": "[encoded data removed]",
      "text/plain": [
       "<Figure size 432x288 with 1 Axes>"
      ]
     },
     "metadata": {
      "needs_background": "light"
     },
     "output_type": "display_data"
    }
   ],
   "source": [
    "# Test GAE returns w same rewards as above. The difference btwn vanilla and GAE returns won't always look like this. \n",
    "\n",
    "plt.plot(range(len(gae_returns)), [_[0] for _ in gae_returns])\n",
    "plt.title(\"GAE Returns\")"
   ]
  },
  {
   "cell_type": "markdown",
   "metadata": {},
   "source": [
    "## Gather Trajectories "
   ]
  },
  {
   "cell_type": "code",
   "execution_count": 20,
   "metadata": {
    "colab": {},
    "colab_type": "code",
    "id": "DuEQQS0oE3tn"
   },
   "outputs": [
    {
     "data": {
      "text/plain": [
       "(72, 64, 64, 3)"
      ]
     },
     "execution_count": 20,
     "metadata": {},
     "output_type": "execute_result"
    }
   ],
   "source": [
    "# Initialize w first frames\n",
    "\n",
    "last_frame_ = env.reset(); last_frame_.shape #(n_envs, height, width, channels)"
   ]
  },
  {
   "cell_type": "code",
   "execution_count": 21,
   "metadata": {
    "colab": {},
    "colab_type": "code",
    "id": "iN5-48wIE3tq"
   },
   "outputs": [],
   "source": [
    "# Gather trajectories for n_steps. Vecenvs call reset at the end of a game so we can just keep playing and playing...\n",
    "\n",
    "n_steps = 256\n",
    "\n",
    "def gather_trajectories():\n",
    "    with torch.no_grad():\n",
    "        agent.eval()\n",
    "        global last_frame_\n",
    "        frame = last_frame_\n",
    "        frames_, rewards_, dones_, actions_, old_action_probs_, old_state_estimates_, epinfos = [], [], [], [], [], [], []\n",
    "        \n",
    "        for s in range(n_steps):\n",
    "            frames_.append(frame);\n",
    "            action_probs, state_estimate = agent(np_to_pytorch_img(frame).to(device));\n",
    "            action = get_action(action_probs).cpu().numpy();\n",
    "            frame, reward, done, info = env.step(action)\n",
    "            rewards_.append(reward); dones_.append(done); actions_.append(action); old_action_probs_.append(action_probs.detach().cpu().numpy()); old_state_estimates_.append(state_estimate.detach().cpu().numpy())\n",
    "\n",
    "            for i in info:\n",
    "                episode_info = i.get('episode')\n",
    "                if episode_info: epinfos.append(episode_info)\n",
    "\n",
    "        rewards_ = np.array(rewards_); dones_ = np.array(dones_); actions_ = np.array(actions_); frames_ = np.array(frames_); old_state_estimates_ = np.array(old_state_estimates_);\n",
    "        \n",
    "        last_frame_ = frames_[-1] # reset global last frame. Next time we gather trajectories we'll pick up here\n",
    "        \n",
    "        rewards_[-1] = state_estimate.squeeze(-1).cpu().numpy() # Bootstrapped returns\n",
    "\n",
    "        returns_ = compute_returns_gae(rewards_, dones_, old_state_estimates_.squeeze(-1))\n",
    "        \n",
    "        # Reshaping dims and prepping tensor types and locations. Nothing conceptually interesting.\n",
    "        returns_, old_state_estimates_, old_action_probs_, actions_, frames_ = reshaping_processing_acrobatics(returns_, old_state_estimates_, old_action_probs_, actions_, frames_)\n",
    "\n",
    "        return returns_, frames_, actions_, old_action_probs_, old_state_estimates_, epinfos"
   ]
  },
  {
   "cell_type": "code",
   "execution_count": 22,
   "metadata": {
    "colab": {
     "base_uri": "https://localhost:8080/",
     "height": 1000
    },
    "colab_type": "code",
    "id": "VHIoA6EFE3ts",
    "outputId": "43b482fd-123c-435e-97da-44d5840e102e",
    "scrolled": true
   },
   "outputs": [
    {
     "data": {
      "text/plain": [
       "(torch.Size([18432]), torch.Size([18432, 3, 64, 64]), torch.Size([18432]))"
      ]
     },
     "execution_count": 22,
     "metadata": {},
     "output_type": "execute_result"
    }
   ],
   "source": [
    "# Setting global database of rollouts\n",
    "\n",
    "returns, frames, actions, old_action_probs, old_state_estimates, epinfos = gather_trajectories()\n",
    "returns.shape, frames.shape, actions.shape"
   ]
  },
  {
   "cell_type": "code",
   "execution_count": 23,
   "metadata": {
    "colab": {
     "base_uri": "https://localhost:8080/",
     "height": 34
    },
    "colab_type": "code",
    "id": "UKUUSN8KE3tu",
    "outputId": "9b096aab-543a-49ac-8ccb-9c97fb1eddbb"
   },
   "outputs": [
    {
     "data": {
      "text/plain": [
       "1.32"
      ]
     },
     "execution_count": 23,
     "metadata": {},
     "output_type": "execute_result"
    }
   ],
   "source": [
    "# Grabbing scores in real-time during training. Procgen has so many random seeds we can\n",
    "# train and test on all of them without worrying about overlap btwn train and validate. \n",
    "\n",
    "get_avg_score(epinfos)"
   ]
  },
  {
   "cell_type": "code",
   "execution_count": 24,
   "metadata": {},
   "outputs": [
    {
     "data": {
      "text/plain": [
       "<matplotlib.legend.Legend at 0x1ff96cca288>"
      ]
     },
     "execution_count": 24,
     "metadata": {},
     "output_type": "execute_result"
    },
    {
     "data": {
      "image/png": "[encoded data removed]",
      "text/plain": [
       "<Figure size 1440x360 with 1 Axes>"
      ]
     },
     "metadata": {
      "needs_background": "light"
     },
     "output_type": "display_data"
    }
   ],
   "source": [
    "# How good is our critic?\n",
    "\n",
    "plt.figure(figsize=(20,5))\n",
    "plt.plot(range(len(returns[:1000])), returns[:1000])\n",
    "plt.plot(range(len(old_state_estimates[:1000])), old_state_estimates[:1000])\n",
    "plt.title(\"Actual Returns vs Estimated Returns\")\n",
    "plt.legend([\"Actual\", \"Estimated\"])"
   ]
  },
  {
   "cell_type": "code",
   "execution_count": 25,
   "metadata": {
    "colab": {
     "base_uri": "https://localhost:8080/",
     "height": 285
    },
    "colab_type": "code",
    "id": "lFlON2VHE3t4",
    "outputId": "adb604d7-db97-47a9-d424-9465549141a5"
   },
   "outputs": [
    {
     "data": {
      "text/plain": [
       "<matplotlib.image.AxesImage at 0x1ff96d6ad88>"
      ]
     },
     "execution_count": 25,
     "metadata": {},
     "output_type": "execute_result"
    },
    {
     "data": {
      "image/png": "[encoded data removed]",
      "text/plain": [
       "<Figure size 432x288 with 1 Axes>"
      ]
     },
     "metadata": {
      "needs_background": "light"
     },
     "output_type": "display_data"
    }
   ],
   "source": [
    "# Check random imgs from rollouts database, ensure processing didn't mess anything up\n",
    "\n",
    "ix = random.randint(0, len(frames)-1)\n",
    "plt.imshow(pytorch_to_np_img(frames[ix:ix+1]).squeeze(0))"
   ]
  },
  {
   "cell_type": "markdown",
   "metadata": {},
   "source": [
    "## Training\n",
    "\n",
    "When authors say PPO they're ostensibly refering to [the original PPO paper](https://arxiv.org/abs/1707.06347). The trick described in the paper is to prevent the action probabilities generated by your current agent from deviating too far from the the probabilities generated by the agent who actually gathered the data. Paper does this simply by clipping the probabilities to a certain range, usually 20%.\n",
    "\n",
    "But what people REALLY mean when they say PPO is the above trick [combined with half a dozen others](https://arxiv.org/abs/1811.02553)--each one of which is critical to training success. \"PPO\" is better described as \"the basket of tricks used in actual code implementations like OpenAI Baselines\". "
   ]
  },
  {
   "cell_type": "code",
   "execution_count": 26,
   "metadata": {
    "colab": {
     "base_uri": "https://localhost:8080/",
     "height": 101
    },
    "colab_type": "code",
    "id": "cKFsTIUkE3t6",
    "outputId": "31f71a24-caf0-41ef-c14e-d13e8a835e0d",
    "scrolled": true
   },
   "outputs": [
    {
     "data": {
      "text/plain": [
       "(torch.Size([5, 3, 64, 64]),\n",
       " torch.Size([5]),\n",
       " torch.Size([5]),\n",
       " torch.Size([5, 15]),\n",
       " torch.Size([5]))"
      ]
     },
     "execution_count": 26,
     "metadata": {},
     "output_type": "execute_result"
    }
   ],
   "source": [
    "def get_batch(batch_ix):\n",
    "    return frames[batch_ix].to(device), returns[batch_ix].to(device), actions[batch_ix].to(device), old_action_probs[batch_ix].to(device), old_state_estimates[batch_ix].to(device)\n",
    "\n",
    "ix = torch.randperm(len(returns))[:5];\n",
    "frames_batch, returns_batch, actions_batch, old_action_probs_batch, old_state_estimates_batch = get_batch(ix); \n",
    "frames_batch.shape, returns_batch.shape, actions_batch.shape, old_action_probs_batch.shape, old_state_estimates_batch.shape"
   ]
  },
  {
   "cell_type": "code",
   "execution_count": 27,
   "metadata": {
    "colab": {
     "base_uri": "https://localhost:8080/",
     "height": 1000
    },
    "colab_type": "code",
    "id": "IWoAxC19E3t7",
    "outputId": "4d749512-69dd-43bf-d48d-40d5f661a400"
   },
   "outputs": [
    {
     "data": {
      "text/plain": [
       "tensor([[[0.1804, 0.1569, 0.1843,  ..., 0.0000, 0.0941, 0.0275],\n",
       "         [0.1961, 0.1765, 0.2000,  ..., 0.0078, 0.0157, 0.0196],\n",
       "         [0.2078, 0.2039, 0.2000,  ..., 0.0039, 0.0235, 0.0039],\n",
       "         ...,\n",
       "         [0.1490, 0.0549, 0.0980,  ..., 0.5255, 0.7451, 0.6471],\n",
       "         [0.0863, 0.0824, 0.1255,  ..., 0.5451, 0.6980, 0.4784],\n",
       "         [0.1059, 0.1255, 0.1686,  ..., 0.6078, 0.6471, 0.4000]],\n",
       "\n",
       "        [[0.2471, 0.2078, 0.2431,  ..., 0.0039, 0.1373, 0.0392],\n",
       "         [0.2627, 0.2314, 0.2510,  ..., 0.0078, 0.0235, 0.0235],\n",
       "         [0.2706, 0.2627, 0.2549,  ..., 0.0078, 0.0275, 0.0118],\n",
       "         ...,\n",
       "         [0.1176, 0.0431, 0.1020,  ..., 0.9373, 0.8588, 0.6510],\n",
       "         [0.0706, 0.0627, 0.1176,  ..., 0.9373, 0.8275, 0.5059],\n",
       "         [0.0863, 0.1020, 0.1451,  ..., 0.9294, 0.7686, 0.4196]],\n",
       "\n",
       "        [[0.4314, 0.3686, 0.4314,  ..., 0.0000, 0.2392, 0.0706],\n",
       "         [0.4627, 0.4118, 0.4510,  ..., 0.0118, 0.0431, 0.0431],\n",
       "         [0.4824, 0.4706, 0.4549,  ..., 0.0118, 0.0510, 0.0275],\n",
       "         ...,\n",
       "         [0.2549, 0.0941, 0.1608,  ..., 0.9804, 0.9529, 0.8000],\n",
       "         [0.1490, 0.1373, 0.2039,  ..., 0.9804, 0.9294, 0.6549],\n",
       "         [0.1843, 0.2235, 0.2627,  ..., 0.9804, 0.8941, 0.6039]]],\n",
       "       device='cuda:0')"
      ]
     },
     "execution_count": 27,
     "metadata": {},
     "output_type": "execute_result"
    }
   ],
   "source": [
    "# Sample img as the agent will see it. Always check inputs as they are directly before agent ingestion\n",
    "\n",
    "frames_batch[0]"
   ]
  },
  {
   "cell_type": "code",
   "execution_count": 28,
   "metadata": {
    "colab": {},
    "colab_type": "code",
    "id": "pc-mqbqBE3t9"
   },
   "outputs": [],
   "source": [
    "def calculate_action_gain_ppo(action_probs, old_action_probs, actions_taken, advantages, verbose=False):\n",
    "    \"\"\" Actions resulting in positive advantage made more probable, and vice versa. Cannot differ from old\n",
    "    probs by too much. Log probs are from current agent. Actions_taken are from OLD version of agent. \"\"\"\n",
    "    \n",
    "    a = actions_taken.unsqueeze(-1).to(device)\n",
    "    if verbose: print(\"\\n\\nactions unsqueezed\\n\", a)\n",
    "        \n",
    "    chosen_action_probs = action_probs.gather(1, a)\n",
    "    chosen_action_probs = chosen_action_probs.squeeze(-1)\n",
    "    \n",
    "    old_chosen_action_probs = old_action_probs.gather(1, a)\n",
    "    old_chosen_action_probs = old_chosen_action_probs.squeeze(-1)\n",
    "    if verbose: print(\"\\n\\nchosen action probs, new and old\\n\", chosen_action_probs,'\\n', old_chosen_action_probs, '\\n\\nadvantages values', advantages)\n",
    "    \n",
    "    ratio = torch.exp(chosen_action_probs - old_chosen_action_probs)\n",
    "    if verbose: print('\\n\\nratio', ratio)\n",
    "    \n",
    "    unclipped_action_gain = ratio * advantages\n",
    "    clipped_action_gain = torch.clamp(ratio, .8, 1.2) * advantages\n",
    "    if verbose: print('\\n\\nunclipped and clipped action gains\\n', unclipped_action_gain, '\\n', clipped_action_gain)\n",
    "    \n",
    "    action_gain = torch.min(unclipped_action_gain, clipped_action_gain)\n",
    "    if verbose: print('\\n\\n conservative lower bound action gain\\n', action_gain)\n",
    "        \n",
    "    action_gain = action_gain.mean()\n",
    "    if verbose: print('\\n\\nmean', action_gain)\n",
    "        \n",
    "    return action_gain # single scalar"
   ]
  },
  {
   "cell_type": "code",
   "execution_count": 29,
   "metadata": {
    "colab": {
     "base_uri": "https://localhost:8080/",
     "height": 269
    },
    "colab_type": "code",
    "id": "5SRUBH-1E3t_",
    "outputId": "732847f6-6d70-485a-be97-1ddeba2dd5d8",
    "scrolled": true
   },
   "outputs": [
    {
     "data": {
      "text/plain": [
       "torch.Size([5, 15])"
      ]
     },
     "execution_count": 29,
     "metadata": {},
     "output_type": "execute_result"
    }
   ],
   "source": [
    "with torch.no_grad():\n",
    "    action_probs, state_estimates = agent(frames_batch); \n",
    "\n",
    "action_probs.shape # (bs, n_actions)"
   ]
  },
  {
   "cell_type": "code",
   "execution_count": 30,
   "metadata": {
    "colab": {
     "base_uri": "https://localhost:8080/",
     "height": 622
    },
    "colab_type": "code",
    "id": "kGTq_QsRE3uF",
    "outputId": "c9c73a93-13d5-4682-cf93-06b1696d1c23",
    "scrolled": true
   },
   "outputs": [
    {
     "name": "stdout",
     "output_type": "stream",
     "text": [
      "\n",
      "\n",
      "actions unsqueezed\n",
      " tensor([[6],\n",
      "        [4],\n",
      "        [3],\n",
      "        [2],\n",
      "        [7]], device='cuda:0')\n",
      "\n",
      "\n",
      "chosen action probs, new and old\n",
      " tensor([-2.7090, -2.7083, -2.7081, -2.7083, -2.7077], device='cuda:0') \n",
      " tensor([-2.7090, -2.7083, -2.7081, -2.7083, -2.7077], device='cuda:0') \n",
      "\n",
      "advantages values tensor([0.6331, 0.0021, 0.0257, 1.0057, 0.2631], device='cuda:0')\n",
      "\n",
      "\n",
      "ratio tensor([1., 1., 1., 1., 1.], device='cuda:0')\n",
      "\n",
      "\n",
      "unclipped and clipped action gains\n",
      " tensor([0.6331, 0.0021, 0.0257, 1.0057, 0.2631], device='cuda:0') \n",
      " tensor([0.6331, 0.0021, 0.0257, 1.0057, 0.2631], device='cuda:0')\n",
      "\n",
      "\n",
      " conservative lower bound action gain\n",
      " tensor([0.6331, 0.0021, 0.0257, 1.0057, 0.2631], device='cuda:0')\n",
      "\n",
      "\n",
      "mean tensor(0.3859, device='cuda:0')\n"
     ]
    },
    {
     "data": {
      "text/plain": [
       "tensor(0.3859, device='cuda:0')"
      ]
     },
     "execution_count": 30,
     "metadata": {},
     "output_type": "execute_result"
    }
   ],
   "source": [
    "# Inspect action gain calculations\n",
    "\n",
    "calculate_action_gain_ppo(action_probs, old_action_probs_batch, actions_batch, returns_batch, verbose=True)"
   ]
  },
  {
   "cell_type": "code",
   "execution_count": 31,
   "metadata": {
    "colab": {
     "base_uri": "https://localhost:8080/",
     "height": 319
    },
    "colab_type": "code",
    "id": "hmZBSqWQE3uG",
    "outputId": "5cd247fb-2e5a-472d-9c67-bbcaa17c1dd3"
   },
   "outputs": [
    {
     "name": "stdout",
     "output_type": "stream",
     "text": [
      "\n",
      "state estimates, new and old\n",
      "\n",
      " tensor([0.0347, 0.0404, 0.0322, 0.0139, 0.0382], device='cuda:0') \n",
      " tensor([0.0347, 0.0404, 0.0322, 0.0139, 0.0382], device='cuda:0') \n",
      "\n",
      "returns tensor([0.6331, 0.0021, 0.0257, 1.0057, 0.2631], device='cuda:0')\n",
      "\n",
      "Critic Losses: clipped, unclipped, conservative:\n",
      " tensor([3.5811e-01, 1.4678e-03, 4.1023e-05, 9.8354e-01, 5.0561e-02],\n",
      "       device='cuda:0') \n",
      " tensor([3.5811e-01, 1.4678e-03, 4.1023e-05, 9.8354e-01, 5.0561e-02],\n",
      "       device='cuda:0') \n",
      " tensor([3.5811e-01, 1.4678e-03, 4.1023e-05, 9.8354e-01, 5.0561e-02],\n",
      "       device='cuda:0')\n"
     ]
    },
    {
     "data": {
      "text/plain": [
       "tensor(0.1394, device='cuda:0')"
      ]
     },
     "execution_count": 31,
     "metadata": {},
     "output_type": "execute_result"
    }
   ],
   "source": [
    "def get_critic_loss(old_state_estimates_b, state_estimates, returns_b, verbose=False):\n",
    "    \"\"\" How good is critic at estimating state? Don't allow differ too much from old state estimates \"\"\"\n",
    "    \n",
    "    state_estimates = state_estimates.squeeze(-1)\n",
    "    clipped_state_estimate = old_state_estimates_b + torch.clamp(state_estimates - old_state_estimates_b, -.2, .2)\n",
    "    if verbose: print(\"\\nstate estimates, new and old\\n\\n\", state_estimates, '\\n', old_state_estimates_b, '\\n\\nreturns', returns_b)\n",
    "    critic_loss_1 = ((returns_b - clipped_state_estimate)**2)\n",
    "    critic_loss_2 = ((returns_b - state_estimates)**2)\n",
    "    critic_loss = torch.max(critic_loss_1, critic_loss_2)\n",
    "    if verbose: print('\\nCritic Losses: clipped, unclipped, conservative:\\n', critic_loss_1, '\\n', critic_loss_2, '\\n', critic_loss)\n",
    "    critic_loss = critic_loss.mean() * .5\n",
    "    return critic_loss # single scalar\n",
    "\n",
    "get_critic_loss(old_state_estimates_batch, state_estimates, returns_batch, True)"
   ]
  },
  {
   "cell_type": "code",
   "execution_count": 32,
   "metadata": {
    "colab": {},
    "colab_type": "code",
    "id": "Vj55j_gJE3uK"
   },
   "outputs": [],
   "source": [
    "def get_entropy_bonus(action_probs):\n",
    "    \"\"\" Encourage humility \"\"\"\n",
    "    e = -(action_probs.exp() * (action_probs+1e-8))\n",
    "    e = e.sum(dim=1)\n",
    "    e = e.mean()\n",
    "    return e"
   ]
  },
  {
   "cell_type": "code",
   "execution_count": 33,
   "metadata": {
    "colab": {},
    "colab_type": "code",
    "id": "D1hg_OAgE3uM"
   },
   "outputs": [
    {
     "data": {
      "text/plain": [
       "(tensor(2.7081, device='cuda:0'), tensor(2.7081, device='cuda:0'))"
      ]
     },
     "execution_count": 33,
     "metadata": {},
     "output_type": "execute_result"
    }
   ],
   "source": [
    "# Pytorch distributions have entropy calc directly out of the box. Check against that.\n",
    "\n",
    "get_entropy_bonus(action_probs), categorical(action_probs.exp()).entropy().mean()"
   ]
  },
  {
   "cell_type": "code",
   "execution_count": 34,
   "metadata": {
    "colab": {},
    "colab_type": "code",
    "id": "pQF4Zv9aE3uS"
   },
   "outputs": [],
   "source": [
    "def run_batch(batch_ix, verbose=False):\n",
    "    \"\"\" Run a single batch of data. Takes in indices, uses them to pull from global database of rollouts,\n",
    "    calculates and returns losses. No gradient steps here. \"\"\"\n",
    "    \n",
    "    frames_b, returns_b, actions_taken_b, old_action_probs_b, old_state_estimates_b = get_batch(batch_ix)\n",
    "\n",
    "    action_probs, state_estimates = agent(frames_b)\n",
    "    \n",
    "    entropy_bonus = get_entropy_bonus(action_probs)\n",
    "    \n",
    "    critic_loss = get_critic_loss(old_state_estimates_b, state_estimates, returns_b, verbose=verbose)\n",
    "    \n",
    "    with torch.no_grad():\n",
    "        advantages = (returns_b - state_estimates.squeeze(-1).detach()) # don't want to propogate gradients through this\n",
    "        advantages -= advantages.mean()\n",
    "        advantages /= (advantages.std() + 1e-8)\n",
    "    \n",
    "    action_gain = calculate_action_gain_ppo(action_probs, old_action_probs_b, actions_taken_b, advantages, verbose=verbose)\n",
    "    \n",
    "    return entropy_bonus, action_gain, critic_loss"
   ]
  },
  {
   "cell_type": "code",
   "execution_count": 35,
   "metadata": {
    "colab": {},
    "colab_type": "code",
    "id": "YkB-25LbE3uT",
    "scrolled": true
   },
   "outputs": [],
   "source": [
    "# Manually run a batch\n",
    "\n",
    "with torch.no_grad():\n",
    "    run_batch(ix, False)"
   ]
  },
  {
   "cell_type": "code",
   "execution_count": 36,
   "metadata": {
    "colab": {
     "base_uri": "https://localhost:8080/",
     "height": 34
    },
    "colab_type": "code",
    "id": "twyvUxMJE3uZ",
    "outputId": "cabb5d93-4cdf-4e39-b51a-21cf9e4ad0e4"
   },
   "outputs": [
    {
     "data": {
      "text/plain": [
       "(18432, 1356, 2304)"
      ]
     },
     "execution_count": 36,
     "metadata": {},
     "output_type": "execute_result"
    }
   ],
   "source": [
    "# Hyperparameters all taken from procgen paper\n",
    "\n",
    "lr = 5e-4 # High lr bc batch size is big as well.\n",
    "opt = torch.optim.Adam(agent.parameters(), lr=lr, eps=1e-5)\n",
    "n_obs_per_round = n_envs * n_steps; \n",
    "target_n_obs = 25_000_000 # This is for 'easy' mode. 'Hard' requires 10x more\n",
    "n_minibatches = 8\n",
    "bs = n_obs_per_round // n_minibatches\n",
    "n_rounds = target_n_obs // n_obs_per_round\n",
    "\n",
    "# procgen paper avgs gradients across 4 workers for training in 'hard' setting. This is same as making bs 4 times bigger. \n",
    "# For the same effect on a single GPU, use gradient accumulation to mimic larger batch size. medium.com/huggingface/training-larger-batches-practical-tips-on-1-gpu-multi-gpu-distributed-setups-ec88c3e51255\n",
    "accumulation_steps = 1 \n",
    "\n",
    "entropy_coef = .01\n",
    "value_loss_coef = .5\n",
    "n_opt_epochs = 3 # how many times does agent 'see' an observation before we discard it?\n",
    "\n",
    "n_obs_per_round, n_rounds, bs"
   ]
  },
  {
   "cell_type": "code",
   "execution_count": 37,
   "metadata": {
    "colab": {
     "base_uri": "https://localhost:8080/",
     "height": 34
    },
    "colab_type": "code",
    "id": "KrnnZfk4E3ub",
    "outputId": "1f397217-a477-49bf-90d5-3549c01792c4",
    "scrolled": true
   },
   "outputs": [
    {
     "data": {
      "text/plain": [
       "0.818086177110672"
      ]
     },
     "execution_count": 37,
     "metadata": {},
     "output_type": "execute_result"
    }
   ],
   "source": [
    "def reflect(verbose=False):\n",
    "    \"\"\" Reflect on current database of rollouts for a single epoch \"\"\"\n",
    "    \n",
    "    agent.train()\n",
    "    epoch_losses = []\n",
    "    ix_range = range(len(returns))\n",
    "    ix = 0\n",
    "    grad_accum_counter = 1\n",
    "    while ix < len(returns):\n",
    "        batch_ix = ix_range[ix:ix+bs]; ix += bs\n",
    "        entropy_bonus, action_gain, critic_loss = run_batch(batch_ix, verbose=verbose)\n",
    "        entropy_bonus *= entropy_coef\n",
    "        critic_loss *= value_loss_coef\n",
    "        if verbose: print(\"\\n\\nentropy bonus, action gain\\n, critic loss\\n\", entropy_bonus.item(), action_gain.item(), critic_loss.item())\n",
    "        total_loss = critic_loss - entropy_bonus - action_gain\n",
    "        total_loss /= accumulation_steps\n",
    "        total_loss.backward()\n",
    "                \n",
    "        if grad_accum_counter % accumulation_steps == 0:\n",
    "            nn.utils.clip_grad_norm_(agent.parameters(), .5);\n",
    "            opt.step()\n",
    "            opt.zero_grad()\n",
    "        grad_accum_counter+=1\n",
    "        epoch_losses.append(total_loss.item())\n",
    "\n",
    "    return np.array(epoch_losses).mean(); # epoch avg loss\n",
    "\n",
    "reflect(False)"
   ]
  },
  {
   "cell_type": "code",
   "execution_count": 38,
   "metadata": {},
   "outputs": [],
   "source": [
    "def shuffle_database():\n",
    "    \"\"\" Shuffle the global database of rollouts in place. Doesn't return anything. Requires that database exist. \"\"\"\n",
    "    \n",
    "    global returns, frames, actions, old_action_probs, old_state_estimates\n",
    "    dataset_ix = torch.randperm(len(returns));\n",
    "    returns = returns[dataset_ix]\n",
    "    frames = frames[dataset_ix]\n",
    "    actions = actions[dataset_ix]\n",
    "    old_action_probs = old_action_probs[dataset_ix]\n",
    "    old_state_estimates = old_state_estimates[dataset_ix]"
   ]
  },
  {
   "cell_type": "code",
   "execution_count": 39,
   "metadata": {
    "colab": {
     "base_uri": "https://localhost:8080/",
     "height": 1000
    },
    "colab_type": "code",
    "id": "Dq1nhwUEE3ue",
    "outputId": "bba11419-9656-4001-d0a9-f5c849629cab",
    "scrolled": true
   },
   "outputs": [
    {
     "name": "stdout",
     "output_type": "stream",
     "text": [
      "0 1.8275862\n",
      "100 12.237113\n",
      "200 20.656717\n",
      "300 23.60606\n",
      "400 25.851852\n",
      "500 37.264153\n",
      "600 24.73585\n",
      "700 24.644068\n",
      "800 25.90909\n",
      "900 27.862745\n",
      "1000 27.472727\n",
      "1100 31.166666\n",
      "1200 36.05263\n",
      "1300 31.25397\n"
     ]
    }
   ],
   "source": [
    "# Train. 'Easy' mode takes ~3 hours on single GPU. Go outside for a run.\n",
    "\n",
    "scores = []; losses = [];\n",
    "\n",
    "for i in range(n_rounds):\n",
    "    with torch.no_grad():\n",
    "        returns, frames, actions, old_action_probs, old_state_estimates, epinfos = gather_trajectories() # refresh 'database'\n",
    "        avg_score = get_avg_score(epinfos)\n",
    "        scores.append(avg_score)\n",
    "    \n",
    "    for e in range(n_opt_epochs):\n",
    "        shuffle_database()\n",
    "        loss = reflect(verbose = False)\n",
    "        losses.append(loss)\n",
    "    \n",
    "    if i % 100 == 0: print(i, avg_score)"
   ]
  },
  {
   "cell_type": "code",
   "execution_count": 40,
   "metadata": {
    "colab": {},
    "colab_type": "code",
    "id": "l98cCvTzE3uf",
    "scrolled": true
   },
   "outputs": [],
   "source": [
    "torch.save(agent.state_dict(), env_name +\" agent.torch\")"
   ]
  },
  {
   "cell_type": "code",
   "execution_count": 41,
   "metadata": {
    "colab": {
     "base_uri": "https://localhost:8080/",
     "height": 282
    },
    "colab_type": "code",
    "id": "ud1d3tzdE3uh",
    "outputId": "dfb58a38-7d25-4b96-81c4-6b401e06c724"
   },
   "outputs": [
    {
     "data": {
      "text/plain": [
       "Text(0.5, 1.0, 'Scores starpilot')"
      ]
     },
     "execution_count": 41,
     "metadata": {},
     "output_type": "execute_result"
    },
    {
     "data": {
      "image/png": "[encoded data removed]",
      "text/plain": [
       "<Figure size 432x288 with 1 Axes>"
      ]
     },
     "metadata": {
      "needs_background": "light"
     },
     "output_type": "display_data"
    }
   ],
   "source": [
    "plt.plot(range(len(scores)), scores)\n",
    "plt.title(\"Scores \" + env_name)"
   ]
  },
  {
   "cell_type": "markdown",
   "metadata": {},
   "source": [
    "## Manually Inspect Performance"
   ]
  },
  {
   "cell_type": "code",
   "execution_count": 42,
   "metadata": {
    "colab": {},
    "colab_type": "code",
    "id": "Fhg4-NIuE3uo"
   },
   "outputs": [
    {
     "data": {
      "text/plain": [
       "(torch.Size([18432]), torch.Size([18432, 3, 64, 64]))"
      ]
     },
     "execution_count": 42,
     "metadata": {},
     "output_type": "execute_result"
    }
   ],
   "source": [
    "# Generate some fresh data\n",
    "\n",
    "with torch.no_grad():\n",
    "    returns, frames, actions, old_action_probs, old_state_estimates, epinfos = gather_trajectories()\n",
    "    \n",
    "returns.shape, frames.shape"
   ]
  },
  {
   "cell_type": "code",
   "execution_count": 43,
   "metadata": {},
   "outputs": [],
   "source": [
    "n_vid_steps = 1000"
   ]
  },
  {
   "cell_type": "code",
   "execution_count": 44,
   "metadata": {
    "colab": {},
    "colab_type": "code",
    "id": "q68ytRIRE3uq"
   },
   "outputs": [
    {
     "data": {
      "text/plain": [
       "<matplotlib.legend.Legend at 0x1ff9388a088>"
      ]
     },
     "execution_count": 44,
     "metadata": {},
     "output_type": "execute_result"
    },
    {
     "data": {
      "image/png": "[encoded data removed]",
      "text/plain": [
       "<Figure size 1440x360 with 1 Axes>"
      ]
     },
     "metadata": {
      "needs_background": "light"
     },
     "output_type": "display_data"
    }
   ],
   "source": [
    "plt.figure(figsize=(20,5))\n",
    "plt.plot(range(len(returns[:n_vid_steps])), returns[:n_vid_steps])\n",
    "plt.plot(range(len(returns[:n_vid_steps])), old_state_estimates[:n_vid_steps])\n",
    "plt.title(\"Actual Returns vs Estimated Returns\")\n",
    "plt.legend([\"Actual\", \"Estimated\"])"
   ]
  },
  {
   "cell_type": "code",
   "execution_count": 45,
   "metadata": {
    "colab": {},
    "colab_type": "code",
    "id": "l0R2K9E-E3up"
   },
   "outputs": [],
   "source": [
    "# Make a video so we can watch the agent play. Always do this.\n",
    "\n",
    "frames_np = frames[:n_vid_steps].numpy()\n",
    "returns_vid = returns[:n_vid_steps]; returns_vid -= returns_vid.min(); returns_vid /= returns_vid.max()\n",
    "\n",
    "height , width , layers =  64,64,3\n",
    "fps = 14\n",
    "video = cv2.VideoWriter(env_name + '_agent_run.avi', cv2.VideoWriter_fourcc(*\"MJPG\"), fps, (width,height))\n",
    "\n",
    "for i in range(n_vid_steps):\n",
    "    f = frames_np[i];\n",
    "    f = np.transpose(f, (1, 2, 0)) # prep axis numpy style\n",
    "    f = np.uint8(f*255)\n",
    "    r = returns_vid[i];\n",
    "    \n",
    "    # Adding a square in top-left to display actual returns. White is highest returns, black is lowest.\n",
    "    f[:5, :5, :] = 255 * r \n",
    "    \n",
    "    video.write(f)\n",
    "\n",
    "cv2.destroyAllWindows()\n",
    "video.release()\n",
    "\n",
    "# Video is now in root directory. If in colab, can download video with colab files functionality"
   ]
  }
 ],
 "metadata": {
  "accelerator": "GPU",
  "colab": {
   "name": "PPO.ipynb",
   "provenance": []
  },
  "kernelspec": {
   "display_name": "Python 3",
   "language": "python",
   "name": "python3"
  },
  "language_info": {
   "codemirror_mode": {
    "name": "ipython",
    "version": 3
   },
   "file_extension": ".py",
   "mimetype": "text/x-python",
   "name": "python",
   "nbconvert_exporter": "python",
   "pygments_lexer": "ipython3",
   "version": "3.7.4"
  }
 },
 "nbformat": 4,
 "nbformat_minor": 1
}
